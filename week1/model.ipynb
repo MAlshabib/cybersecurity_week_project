{
  "nbformat": 4,
  "nbformat_minor": 0,
  "metadata": {
    "colab": {
      "provenance": []
    },
    "kernelspec": {
      "name": "python3",
      "display_name": "Python 3"
    },
    "language_info": {
      "name": "python"
    }
  },
  "cells": [
    {
      "cell_type": "code",
      "execution_count": null,
      "metadata": {
        "id": "-QVlboSTBx0W"
      },
      "outputs": [],
      "source": [
        "# model to predoct the Financial Loss based on the attack informations\n",
        "from sklearn.model_selection import train_test_split\n",
        "from sklearn.ensemble import RandomForestRegressor\n",
        "from sklearn.metrics import mean_squared_error, r2_score\n",
        "from sklearn.preprocessing import LabelEncoder, MinMaxScaler\n",
        "\n",
        "# Encoding cat columns\n",
        "encoder = LabelEncoder()\n",
        "for column in df.columns:\n",
        "  if df[column].dtype == \"object\":\n",
        "    df[column] = encoder.fit_transform(df[column])\n",
        "\n",
        "\n",
        "# Define features and target\n",
        "X = df.drop(columns=['Financial Loss (in Million $)'])\n",
        "y = df['Financial Loss (in Million $)']\n",
        "\n",
        "# Split data\n",
        "X_train, X_test, y_train, y_test = train_test_split(X, y, test_size=0.2, random_state=42)\n",
        "\n",
        "scaler = MinMaxScaler()\n",
        "X__train_scaled = scaler.fit_transform(X_train)\n",
        "X__test_scaled = scaler.fit_transform(X_test)\n",
        "# Create regression model\n",
        "model = RandomForestRegressor(random_state=42)\n",
        "\n",
        "# Train\n",
        "model.fit(X__train_scaled, y_train)\n",
        "\n",
        "# Predict\n",
        "y_pred_train = model.predict(X__train_scaled)\n",
        "y_pred_test = model.predict(X__test_scaled)\n",
        "\n",
        "# Evaluate\n",
        "print(f\"Train MSE: {mean_squared_error(y_train, y_pred_train):.2f}\")\n",
        "print(f\"Test MSE: {mean_squared_error(y_test, y_pred_test):.2f}\")\n",
        "print(f\"Train R2: {r2_score(y_train, y_pred_train):.2f}\")\n",
        "print(f\"Test R2: {r2_score(y_test, y_pred_test):.2f}\")\n"
      ]
    }
  ]
}